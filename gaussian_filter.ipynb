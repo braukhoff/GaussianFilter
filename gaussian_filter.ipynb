{
 "cells": [
  {
   "cell_type": "code",
   "execution_count": 2,
   "metadata": {},
   "outputs": [],
   "source": [
    "import numpy as np\n",
    "import time\n",
    "from scipy.fft import fftshift\n",
    "import matplotlib.pyplot as plt\n",
    "from skimage import data, img_as_float"
   ]
  },
  {
   "cell_type": "markdown",
   "metadata": {},
   "source": [
    "# Erstellen eines Gaußschen Filters im Frequenzbereich"
   ]
  },
  {
   "cell_type": "code",
   "execution_count": 3,
   "metadata": {},
   "outputs": [],
   "source": [
    "def create_gaussian_filter(shape, sigma=10):\n",
    "    x = np.linspace(-shape[0]//2, shape[0]//2, shape[0])\n",
    "    y = np.linspace(-shape[1]//2, shape[1]//2, shape[1])\n",
    "    x, y = np.meshgrid(x, y)\n",
    "    d = np.sqrt(x**2 + y**2)\n",
    "    gaussian = np.exp(-(d**2 / (2.0 * sigma**2)))\n",
    "    return gaussian"
   ]
  },
  {
   "cell_type": "markdown",
   "metadata": {},
   "source": [
    "# FFT Implemtierung"
   ]
  },
  {
   "cell_type": "code",
   "execution_count": 4,
   "metadata": {},
   "outputs": [],
   "source": [
    "# Maximale Framezahl\n",
    "FRAME_SIZE = 1024\n",
    "\n",
    "# Berechne die Faktoren fuer die Kombination\n",
    "EXP_FACTOR_FFT_LOOK_UP = [np.exp(-2j * np.pi * np.arange(N // 2) / N) for N in range(FRAME_SIZE + 1)]\n",
    "EXP_FACTOR_IFFT_LOOK_UP = [np.exp(2j * np.pi * np.arange(N // 2) / N) for N in range(FRAME_SIZE + 1)]\n",
    "\n",
    "# Rekursive FFT Implementierung für 1D Arrays\n",
    "def fft(x):\n",
    "    N = x.shape[0]  # N ist die Laenge von x\n",
    "    \n",
    "    # Falls x nur aus einem Element besteht gebe x zurueck\n",
    "    if N == 1: return x\n",
    "\n",
    "    # Teile a in gerade und ungerade Elemente und berechne deren FFT\n",
    "    fft_even = fft(x[0::2])\n",
    "    fft_odd = fft(x[1::2])\n",
    "\n",
    "    # Führe die Butterfly Operation durch\n",
    "    exp_mult_fft_odd = EXP_FACTOR_FFT_LOOK_UP[N] * fft_odd\n",
    "    butterfly = np.concatenate([fft_even + exp_mult_fft_odd, fft_even - exp_mult_fft_odd])\n",
    "        \n",
    "    return butterfly\n",
    "\n",
    "# Rekursive Idft Implementierung für 1D Arrays\n",
    "def ifft(x):\n",
    "    N = x.shape[0]  # N ist die Länge von x\n",
    "    \n",
    "    # Falls x nur aus einem Element besteht, gebe x zurück\n",
    "    if N == 1: return x\n",
    "\n",
    "    # Teile x in gerade und ungerade Elemente und berechne deren IFFT\n",
    "    ifft_even = ifft(x[0::2])\n",
    "    ifft_odd = ifft(x[1::2])\n",
    "    \n",
    "    # Führe die Butterfly Operation durch\n",
    "    exp_mult_ifft_odd = EXP_FACTOR_IFFT_LOOK_UP[N] * ifft_odd\n",
    "    butterfly = np.concatenate([ifft_even + exp_mult_ifft_odd, ifft_even - exp_mult_ifft_odd])\n",
    "    \n",
    "    # Am Ende der IFFT muss jede Komponente durch N dividiert werden\n",
    "    return butterfly / N\n",
    "\n",
    "# 2D FFT Implementierung\n",
    "def fft2(image):\n",
    "    fft_rows = np.array([fft(row) for row in image])\n",
    "    fft_image = np.array([fft(col) for col in fft_rows.T]).T\n",
    "    return fft_image\n",
    "\n",
    "# 2D IFFT Implementierung\n",
    "def ifft2(image):\n",
    "    ifft_rows = np.array([ifft(row) for row in image])\n",
    "    ifft_image = np.array([ifft(col) for col in ifft_rows.T]).T\n",
    "    return ifft_image"
   ]
  },
  {
   "cell_type": "markdown",
   "metadata": {},
   "source": [
    "# DFT Implementierung"
   ]
  },
  {
   "cell_type": "code",
   "execution_count": 5,
   "metadata": {},
   "outputs": [],
   "source": [
    "# Direkte Implementierung der DFT für 1D Arrays\n",
    "def dft(x):\n",
    "    N = x.shape[0]\n",
    "    n = np.arange(N)\n",
    "    k = n.reshape((N, 1))\n",
    "    e = np.exp(-2j * np.pi * k * n / N)\n",
    "    return np.dot(e, x)\n",
    "\n",
    "# Direkte Implementierung der IDFT für 1D Arrays\n",
    "def idft(x):\n",
    "    N = x.shape[0]\n",
    "    n = np.arange(N)\n",
    "    k = n.reshape((N, 1))\n",
    "    e = np.exp(2j * np.pi * k * n / N)\n",
    "    return np.dot(e, x) / N\n",
    "\n",
    "# 2D DFT Implementierung\n",
    "def dft2(image):\n",
    "    M, N = image.shape\n",
    "    dft_rows = np.array([dft(row) for row in image])\n",
    "    dft_image = np.array([dft(col) for col in dft_rows.T]).T\n",
    "    return dft_image\n",
    "\n",
    "# 2D IDFT Implementierung\n",
    "def idft2(image):\n",
    "    M, N = image.shape\n",
    "    idft_rows = np.array([idft(row) for row in image])\n",
    "    idft_image = np.array([idft(col) for col in idft_rows.T]).T\n",
    "    return idft_image"
   ]
  },
  {
   "cell_type": "markdown",
   "metadata": {},
   "source": [
    "# Bild laden und in Fließkommazahlen umwandeln"
   ]
  },
  {
   "cell_type": "code",
   "execution_count": 6,
   "metadata": {},
   "outputs": [
    {
     "ename": "AttributeError",
     "evalue": "No skimage.data attribute mountain",
     "output_type": "error",
     "traceback": [
      "\u001b[0;31m---------------------------------------------------------------------------\u001b[0m",
      "\u001b[0;31mAttributeError\u001b[0m                            Traceback (most recent call last)",
      "Cell \u001b[0;32mIn[6], line 1\u001b[0m\n\u001b[0;32m----> 1\u001b[0m image \u001b[38;5;241m=\u001b[39m img_as_float(\u001b[43mdata\u001b[49m\u001b[38;5;241;43m.\u001b[39;49m\u001b[43mmountain\u001b[49m())\n",
      "File \u001b[0;32m/usr/lib/python3.11/site-packages/lazy_loader/__init__.py:89\u001b[0m, in \u001b[0;36mattach.<locals>.__getattr__\u001b[0;34m(name)\u001b[0m\n\u001b[1;32m     87\u001b[0m     \u001b[38;5;28;01mreturn\u001b[39;00m attr\n\u001b[1;32m     88\u001b[0m \u001b[38;5;28;01melse\u001b[39;00m:\n\u001b[0;32m---> 89\u001b[0m     \u001b[38;5;28;01mraise\u001b[39;00m \u001b[38;5;167;01mAttributeError\u001b[39;00m(\u001b[38;5;124mf\u001b[39m\u001b[38;5;124m\"\u001b[39m\u001b[38;5;124mNo \u001b[39m\u001b[38;5;132;01m{\u001b[39;00mpackage_name\u001b[38;5;132;01m}\u001b[39;00m\u001b[38;5;124m attribute \u001b[39m\u001b[38;5;132;01m{\u001b[39;00mname\u001b[38;5;132;01m}\u001b[39;00m\u001b[38;5;124m\"\u001b[39m)\n",
      "\u001b[0;31mAttributeError\u001b[0m: No skimage.data attribute mountain"
     ]
    }
   ],
   "source": [
    "image = img_as_float(data.camera())"
   ]
  },
  {
   "cell_type": "code",
   "execution_count": 8,
   "metadata": {},
   "outputs": [
    {
     "data": {
      "text/plain": [
       "['astronaut',\n",
       " 'binary_blobs',\n",
       " 'brain',\n",
       " 'brick',\n",
       " 'camera',\n",
       " 'cat',\n",
       " 'cell',\n",
       " 'cells3d',\n",
       " 'checkerboard',\n",
       " 'chelsea',\n",
       " 'clock',\n",
       " 'coffee',\n",
       " 'coins',\n",
       " 'colorwheel',\n",
       " 'data_dir',\n",
       " 'download_all',\n",
       " 'eagle',\n",
       " 'file_hash',\n",
       " 'grass',\n",
       " 'gravel',\n",
       " 'horse',\n",
       " 'hubble_deep_field',\n",
       " 'human_mitosis',\n",
       " 'immunohistochemistry',\n",
       " 'kidney',\n",
       " 'lbp_frontal_face_cascade_filename',\n",
       " 'lfw_subset',\n",
       " 'lily',\n",
       " 'logo',\n",
       " 'microaneurysms',\n",
       " 'moon',\n",
       " 'nickel_solidification',\n",
       " 'page',\n",
       " 'palisades_of_vogt',\n",
       " 'protein_transport',\n",
       " 'retina',\n",
       " 'rocket',\n",
       " 'shepp_logan_phantom',\n",
       " 'skin',\n",
       " 'stereo_motorcycle',\n",
       " 'text',\n",
       " 'vortex']"
      ]
     },
     "execution_count": 8,
     "metadata": {},
     "output_type": "execute_result"
    }
   ],
   "source": [
    "dir(data)\n"
   ]
  },
  {
   "cell_type": "markdown",
   "metadata": {},
   "source": [
    "# Berechnung mittels FFT Algorithmus"
   ]
  },
  {
   "cell_type": "code",
   "execution_count": null,
   "metadata": {},
   "outputs": [],
   "source": [
    "start_time = time.time()\n",
    "\n",
    "# FFT des Bildes\n",
    "fft_image = fft2(image)\n",
    "fft_image_shifted = fftshift(fft_image)\n",
    "\n",
    "# Anwenden des Filters durch Multiplikation im Frequenzbereich\n",
    "filtered_fft = fft_image_shifted * create_gaussian_filter(image.shape)\n",
    "\n",
    "# Rücktransformation in den Bildbereich\n",
    "filtered_image = ifft2(fftshift(filtered_fft)).real\n",
    "\n",
    "#time tracking\n",
    "duration = time.time() - start_time\n",
    "\n",
    "print(\"Duration FFT: \", duration)"
   ]
  },
  {
   "cell_type": "markdown",
   "metadata": {},
   "source": [
    "# Anzeigen des Originalbildes und des gefilterten Bildes"
   ]
  },
  {
   "cell_type": "code",
   "execution_count": null,
   "metadata": {},
   "outputs": [],
   "source": [
    "\n",
    "fig, ax = plt.subplots(1, 2, figsize=(10, 5))\n",
    "ax[0].imshow(image, cmap='gray')\n",
    "ax[0].set_title('Originalbild')\n",
    "ax[0].axis('off')\n",
    "ax[1].imshow(filtered_image, cmap='gray')\n",
    "ax[1].set_title('Gefiltertes Bild')\n",
    "ax[1].axis('off')\n",
    "plt.show()"
   ]
  },
  {
   "cell_type": "markdown",
   "metadata": {},
   "source": [
    "# Berechnung mittels DFT Algorithmus"
   ]
  },
  {
   "cell_type": "code",
   "execution_count": null,
   "metadata": {},
   "outputs": [],
   "source": [
    "start_time = time.time()\n",
    "\n",
    "# DFT des Bildes\n",
    "dft_image = dft2(image)\n",
    "dft_image_shifted = fftshift(dft_image)\n",
    "\n",
    "# Anwenden des Filters durch Multiplikation im Frequenzbereich\n",
    "filtered_dft = dft_image_shifted * create_gaussian_filter(image.shape)\n",
    "\n",
    "# Rücktransformation in den Bildbereich\n",
    "filtered_image = idft2(fftshift(filtered_dft)).real\n",
    "\n",
    "#time tracking\n",
    "duration = time.time() - start_time\n",
    "\n",
    "print(\"Duration DFT: \", duration)"
   ]
  },
  {
   "cell_type": "markdown",
   "metadata": {},
   "source": [
    "# Anzeigen des Originalbildes und des gefilterten Bildes"
   ]
  },
  {
   "cell_type": "code",
   "execution_count": null,
   "metadata": {},
   "outputs": [],
   "source": [
    "fig, ax = plt.subplots(1, 2, figsize=(10, 5))\n",
    "ax[0].imshow(image, cmap='gray')\n",
    "ax[0].set_title('Originalbild')\n",
    "ax[0].axis('off')\n",
    "ax[1].imshow(filtered_image, cmap='gray')\n",
    "ax[1].set_title('Gefiltertes Bild')\n",
    "ax[1].axis('off')\n",
    "plt.show()"
   ]
  }
 ],
 "metadata": {
  "kernelspec": {
   "display_name": "Python 3",
   "language": "python",
   "name": "python3"
  },
  "language_info": {
   "codemirror_mode": {
    "name": "ipython",
    "version": 3
   },
   "file_extension": ".py",
   "mimetype": "text/x-python",
   "name": "python",
   "nbconvert_exporter": "python",
   "pygments_lexer": "ipython3",
   "version": "3.11.8"
  }
 },
 "nbformat": 4,
 "nbformat_minor": 2
}
